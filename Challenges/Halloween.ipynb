{
 "cells": [
  {
   "cell_type": "markdown",
   "id": "185f9931-b384-4fdc-a5b2-eea785428bb8",
   "metadata": {},
   "source": [
    "Copyright **`(c)`** 2023 Antonio Ferrigno `<s316467@studenti.polito.it>`  \n",
    "[`https://github.com/s316467/Computational-Intelligence-23-24`](https://github.com/s316467/Computational-Intelligence-23-24)  \n",
    "Free for personal or classroom use; see [`LICENSE.md`](https://github.com/s316467/Computational-Intelligence-23-24/LICENSE.md) for details. "
   ]
  },
  {
   "cell_type": "code",
   "execution_count": 1,
   "id": "3ffe7245-e849-41d0-9698-5f0e0b83fee9",
   "metadata": {},
   "outputs": [],
   "source": [
    "from itertools import product\n",
    "from random import random, randint, shuffle, seed\n",
    "import numpy as np\n",
    "from scipy import sparse\n",
    "import matplotlib.pyplot as plt\n",
    "from statistics import mean\n",
    "from numba import njit"
   ]
  },
  {
   "cell_type": "code",
   "execution_count": 2,
   "id": "6f03bd67-78a0-4d72-95b7-77a918727b91",
   "metadata": {},
   "outputs": [],
   "source": [
    "def make_set_covering_problem(num_points, num_sets, density):\n",
    "    seed(num_points*2654435761+num_sets+density)\n",
    "    sets = sparse.lil_matrix((num_sets, num_points), dtype=bool)\n",
    "    for s, p in product(range(num_sets), range(num_points)):\n",
    "        if random() < density:\n",
    "            sets[s, p] = True\n",
    "    for p in range(num_points):\n",
    "        sets[randint(0, num_sets-1), p] = True\n",
    "    return sets"
   ]
  },
  {
   "cell_type": "markdown",
   "id": "82b0be37-21d9-492d-9a1d-cf0cdf0ddd76",
   "metadata": {},
   "source": [
    "# Halloween Challenge\n",
    "\n",
    "Find the best solution with the fewest calls to the fitness functions for:\n",
    "\n",
    "* `num_points = [100, 1_000, 5_000]`\n",
    "* `num_sets = num_points`\n",
    "* `density = [.3, .7]` "
   ]
  },
  {
   "cell_type": "code",
   "execution_count": 3,
   "id": "fcf7a934",
   "metadata": {},
   "outputs": [],
   "source": [
    "@njit\n",
    "def fitness(solution, sets, num_points):\n",
    "    covered_points = np.zeros(num_points, dtype=np.bool_)\n",
    "    for i in solution:\n",
    "        covered_points |= sets[i, :]\n",
    "    return np.sum(covered_points) - len(solution)\n",
    "\n",
    "def greedy_algorithm(sets, num_points):\n",
    "    sets_np = sets.todense().astype(np.bool_)\n",
    "    covered_points = np.zeros(num_points, dtype=np.bool_)\n",
    "    selected_sets = []\n",
    "    fitness_calls = 0\n",
    "    while np.sum(covered_points) < num_points:\n",
    "        best_set = -1\n",
    "        best_cover = -1\n",
    "        for i in range(sets_np.shape[0]):\n",
    "            if i not in selected_sets:\n",
    "                new_cover = np.sum(np.logical_and(np.logical_not(covered_points), sets_np[i, :]))\n",
    "                if new_cover > 0:  # Consider only sets that add new points\n",
    "                    if new_cover > best_cover:\n",
    "                        best_cover = new_cover\n",
    "                        best_set = i\n",
    "        covered_points |= sets_np[best_set, :].A1  # Convert to 1D array before the operation\n",
    "        selected_sets.append(best_set)\n",
    "        fitness_calls += 1  # Count the fitness calls\n",
    "    return selected_sets, fitness_calls\n",
    "\n",
    "\n",
    "def plot_solution(sets, solution, num_points):\n",
    "    fig, ax = plt.subplots(figsize=(10, 8))\n",
    "    cmap = plt.cm.Blues\n",
    "    cax = ax.matshow(sets.todense(), cmap=cmap)\n",
    "    for i in solution:\n",
    "        ax.add_patch(plt.Rectangle((0, i), num_points, 1, fill=True, color='red', alpha=0.5))\n",
    "    plt.xlabel('Points')\n",
    "    plt.ylabel('Sets')\n",
    "    plt.title('Set Covering Problem')\n",
    "    plt.show()"
   ]
  },
  {
   "cell_type": "code",
   "execution_count": 4,
   "id": "576d6f36",
   "metadata": {},
   "outputs": [
    {
     "ename": "ValueError",
     "evalue": "non-broadcastable output operand with shape (100,) doesn't match the broadcast shape (1,100)",
     "output_type": "error",
     "traceback": [
      "\u001b[1;31m---------------------------------------------------------------------------\u001b[0m",
      "\u001b[1;31mValueError\u001b[0m                                Traceback (most recent call last)",
      "\u001b[1;32m~\\AppData\\Local\\Temp\\ipykernel_23572\\1067259301.py\u001b[0m in \u001b[0;36m<module>\u001b[1;34m\u001b[0m\n\u001b[0;32m     16\u001b[0m         \u001b[0mresets\u001b[0m \u001b[1;33m=\u001b[0m \u001b[1;36m0\u001b[0m\u001b[1;33m\u001b[0m\u001b[1;33m\u001b[0m\u001b[0m\n\u001b[0;32m     17\u001b[0m         \u001b[1;32mfor\u001b[0m \u001b[0m_\u001b[0m \u001b[1;32min\u001b[0m \u001b[0mrange\u001b[0m\u001b[1;33m(\u001b[0m\u001b[1;36m10\u001b[0m\u001b[1;33m)\u001b[0m\u001b[1;33m:\u001b[0m\u001b[1;33m\u001b[0m\u001b[1;33m\u001b[0m\u001b[0m\n\u001b[1;32m---> 18\u001b[1;33m             \u001b[0msolution\u001b[0m\u001b[1;33m,\u001b[0m \u001b[0mfitness_calls\u001b[0m \u001b[1;33m=\u001b[0m \u001b[0mgreedy_algorithm\u001b[0m\u001b[1;33m(\u001b[0m\u001b[0msets\u001b[0m\u001b[1;33m,\u001b[0m \u001b[0mnum_points\u001b[0m\u001b[1;33m)\u001b[0m\u001b[1;33m\u001b[0m\u001b[1;33m\u001b[0m\u001b[0m\n\u001b[0m\u001b[0;32m     19\u001b[0m             \u001b[0mfitness_value\u001b[0m \u001b[1;33m=\u001b[0m \u001b[0mfitness\u001b[0m\u001b[1;33m(\u001b[0m\u001b[0msolution\u001b[0m\u001b[1;33m,\u001b[0m \u001b[0msets\u001b[0m\u001b[1;33m.\u001b[0m\u001b[0mtodense\u001b[0m\u001b[1;33m(\u001b[0m\u001b[1;33m)\u001b[0m\u001b[1;33m.\u001b[0m\u001b[0mastype\u001b[0m\u001b[1;33m(\u001b[0m\u001b[0mnp\u001b[0m\u001b[1;33m.\u001b[0m\u001b[0mbool_\u001b[0m\u001b[1;33m)\u001b[0m\u001b[1;33m,\u001b[0m \u001b[0mnum_points\u001b[0m\u001b[1;33m)\u001b[0m\u001b[1;33m\u001b[0m\u001b[1;33m\u001b[0m\u001b[0m\n\u001b[0;32m     20\u001b[0m             \u001b[0mfitness_calls_list\u001b[0m\u001b[1;33m.\u001b[0m\u001b[0mappend\u001b[0m\u001b[1;33m(\u001b[0m\u001b[0mfitness_calls\u001b[0m\u001b[1;33m)\u001b[0m\u001b[1;33m\u001b[0m\u001b[1;33m\u001b[0m\u001b[0m\n",
      "\u001b[1;32m~\\AppData\\Local\\Temp\\ipykernel_23572\\1604078920.py\u001b[0m in \u001b[0;36mgreedy_algorithm\u001b[1;34m(sets, num_points)\u001b[0m\n\u001b[0;32m     21\u001b[0m                         \u001b[0mbest_cover\u001b[0m \u001b[1;33m=\u001b[0m \u001b[0mnew_cover\u001b[0m\u001b[1;33m\u001b[0m\u001b[1;33m\u001b[0m\u001b[0m\n\u001b[0;32m     22\u001b[0m                         \u001b[0mbest_set\u001b[0m \u001b[1;33m=\u001b[0m \u001b[0mi\u001b[0m\u001b[1;33m\u001b[0m\u001b[1;33m\u001b[0m\u001b[0m\n\u001b[1;32m---> 23\u001b[1;33m         \u001b[0mcovered_points\u001b[0m \u001b[1;33m|=\u001b[0m \u001b[0msets_np\u001b[0m\u001b[1;33m[\u001b[0m\u001b[0mbest_set\u001b[0m\u001b[1;33m,\u001b[0m \u001b[1;33m:\u001b[0m\u001b[1;33m]\u001b[0m\u001b[1;33m\u001b[0m\u001b[1;33m\u001b[0m\u001b[0m\n\u001b[0m\u001b[0;32m     24\u001b[0m         \u001b[0mselected_sets\u001b[0m\u001b[1;33m.\u001b[0m\u001b[0mappend\u001b[0m\u001b[1;33m(\u001b[0m\u001b[0mbest_set\u001b[0m\u001b[1;33m)\u001b[0m\u001b[1;33m\u001b[0m\u001b[1;33m\u001b[0m\u001b[0m\n\u001b[0;32m     25\u001b[0m         \u001b[0mfitness_calls\u001b[0m \u001b[1;33m+=\u001b[0m \u001b[1;36m1\u001b[0m  \u001b[1;31m# Count the fitness calls\u001b[0m\u001b[1;33m\u001b[0m\u001b[1;33m\u001b[0m\u001b[0m\n",
      "\u001b[1;31mValueError\u001b[0m: non-broadcastable output operand with shape (100,) doesn't match the broadcast shape (1,100)"
     ]
    }
   ],
   "source": [
    "num_points_list = [100, 1_000, 5_000]\n",
    "density_list = [0.3, 0.7]\n",
    "\n",
    "results = {}\n",
    "plot_data = []\n",
    "best_fitness = float('inf')\n",
    "resets = 0\n",
    "\n",
    "for num_points in num_points_list:\n",
    "    results[num_points] = {}\n",
    "    for density in density_list:\n",
    "        sets = make_set_covering_problem(num_points, num_points, density)\n",
    "        best_solution = None\n",
    "        best_fitness = float('-inf')\n",
    "        fitness_calls_list = []\n",
    "        resets = 0\n",
    "        for _ in range(10):\n",
    "            solution, fitness_calls = greedy_algorithm(sets, num_points)\n",
    "            fitness_value = fitness(solution, sets.todense().astype(np.bool_), num_points)\n",
    "            fitness_calls_list.append(fitness_calls)\n",
    "            if fitness_value > best_fitness:\n",
    "                best_fitness = fitness_value\n",
    "                best_solution = solution\n",
    "                resets += 1\n",
    "        avg_fitness_calls = mean(fitness_calls_list)\n",
    "        print(f\"num_points: {num_points}, density: {density}, best solution size: {len(best_solution)}, best fitness: {best_fitness}, average fitness calls: {avg_fitness_calls}, resets: {resets}\")\n",
    "        results[num_points][density] = {\n",
    "            'best_solution': best_solution,\n",
    "            'best_fitness': best_fitness,\n",
    "            'avg_fitness_calls': avg_fitness_calls,\n",
    "            'resets': resets\n",
    "        }\n",
    "        plot_data.append((sets, best_solution, num_points))\n",
    "\n",
    "# Plot all solutions\n",
    "for sets, best_solution, num_points in plot_data:\n",
    "    plot_solution(sets, best_solution, num_points)"
   ]
  }
 ],
 "metadata": {
  "kernelspec": {
   "display_name": "Python 3 (ipykernel)",
   "language": "python",
   "name": "python3"
  },
  "language_info": {
   "codemirror_mode": {
    "name": "ipython",
    "version": 3
   },
   "file_extension": ".py",
   "mimetype": "text/x-python",
   "name": "python",
   "nbconvert_exporter": "python",
   "pygments_lexer": "ipython3",
   "version": "3.7.8rc1"
  }
 },
 "nbformat": 4,
 "nbformat_minor": 5
}
