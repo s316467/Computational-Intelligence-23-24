{
 "cells": [
  {
   "cell_type": "markdown",
   "id": "185f9931-b384-4fdc-a5b2-eea785428bb8",
   "metadata": {},
   "source": [
    "Copyright **`(c)`** 2023 Antonio Ferrigno `<s316467@studenti.polito.it>`  \n",
    "[`https://github.com/s316467/Computational-Intelligence-23-24`](https://github.com/s316467/Computational-Intelligence-23-24)  \n",
    "Free for personal or classroom use; see [`LICENSE.md`](https://github.com/s316467/Computational-Intelligence-23-24/LICENSE.md) for details. "
   ]
  },
  {
   "cell_type": "code",
   "execution_count": 1,
   "id": "3ffe7245-e849-41d0-9698-5f0e0b83fee9",
   "metadata": {},
   "outputs": [],
   "source": [
    "from itertools import product\n",
    "from random import random, randint, shuffle, seed\n",
    "import numpy as np\n",
    "from scipy import sparse"
   ]
  },
  {
   "cell_type": "code",
   "execution_count": 2,
   "id": "6f03bd67-78a0-4d72-95b7-77a918727b91",
   "metadata": {},
   "outputs": [],
   "source": [
    "def make_set_covering_problem(num_points, num_sets, density):\n",
    "    \"\"\"Returns a sparse array where rows are sets and columns are the covered items\"\"\"\n",
    "    seed(num_points*2654435761+num_sets+density)\n",
    "    sets = sparse.lil_array((num_sets, num_points), dtype=bool)\n",
    "    for s, p in product(range(num_sets), range(num_points)):\n",
    "        if random() < density:\n",
    "            sets[s, p] = True\n",
    "    for p in range(num_points):\n",
    "        sets[randint(0, num_sets-1), p] = True\n",
    "    return sets"
   ]
  },
  {
   "cell_type": "markdown",
   "id": "82b0be37-21d9-492d-9a1d-cf0cdf0ddd76",
   "metadata": {},
   "source": [
    "# Halloween Challenge\n",
    "\n",
    "Find the best solution with the fewest calls to the fitness functions for:\n",
    "\n",
    "* `num_points = [100, 1_000, 5_000]`\n",
    "* `num_sets = num_points`\n",
    "* `density = [.3, .7]` "
   ]
  },
  {
   "cell_type": "code",
   "execution_count": 4,
   "id": "221ffdba-5d3d-48cc-bd08-45ccc9366ea6",
   "metadata": {},
   "outputs": [],
   "source": [
    "def make_set_covering_problem(num_points, num_sets, density):\n",
    "    \"\"\"Returns a sparse array where rows are sets and columns are the covered items\"\"\"\n",
    "    seed(num_points * 2654435761 + num_sets + density)\n",
    "    sets = sparse.lil_matrix((num_sets, num_points), dtype=bool)\n",
    "    for s, p in product(range(num_sets), range(num_points)):\n",
    "        if random() < density:\n",
    "            sets[s, p] = True\n",
    "    for p in range(num_points):\n",
    "        sets[randint(0, num_sets - 1), p] = True\n",
    "    return sets\n"
   ]
  },
  {
   "cell_type": "code",
   "execution_count": 10,
   "id": "6492337b-8429-472d-9c3e-c79c5b46da54",
   "metadata": {},
   "outputs": [],
   "source": [
    "def greedy_set_cover(sets, num_points):\n",
    "    covered_points = np.zeros(num_points, dtype=bool)\n",
    "    chosen_sets = []\n",
    "\n",
    "    while not all(covered_points):\n",
    "        max_covered = -1\n",
    "        best_set = -1\n",
    "\n",
    "        for i in range(sets.shape[0]):\n",
    "            s = sets.getrow(i).toarray().ravel()\n",
    "            covered_by_s = np.logical_and(s, np.logical_not(covered_points)).sum()\n",
    "            if covered_by_s > max_covered:\n",
    "                max_covered = covered_by_s\n",
    "                best_set = i\n",
    "\n",
    "        if best_set == -1:\n",
    "            break  # No set covers any uncovered points, problem is not solvable\n",
    "\n",
    "        chosen_sets.append(best_set)\n",
    "        best_set_array = sets.getrow(best_set).toarray().ravel()\n",
    "        covered_points |= best_set_array  # update using best_set\n",
    "\n",
    "    return chosen_sets\n"
   ]
  },
  {
   "cell_type": "code",
   "execution_count": 13,
   "id": "0eba3feb",
   "metadata": {},
   "outputs": [
    {
     "name": "stdout",
     "output_type": "stream",
     "text": [
      "Chosen sets: [76, 0, 40, 3, 4, 17]\n"
     ]
    }
   ],
   "source": [
    "# Test the function\n",
    "num_points = 100\n",
    "num_sets = 100\n",
    "density = 0.3\n",
    "sets = make_set_covering_problem(num_points, num_sets, density)\n",
    "chosen_sets = greedy_set_cover(sets, num_points)\n",
    "print(\"Chosen sets:\", chosen_sets)"
   ]
  }
 ],
 "metadata": {
  "kernelspec": {
   "display_name": "Python 3 (ipykernel)",
   "language": "python",
   "name": "python3"
  },
  "language_info": {
   "codemirror_mode": {
    "name": "ipython",
    "version": 3
   },
   "file_extension": ".py",
   "mimetype": "text/x-python",
   "name": "python",
   "nbconvert_exporter": "python",
   "pygments_lexer": "ipython3",
   "version": "3.7.8"
  }
 },
 "nbformat": 4,
 "nbformat_minor": 5
}
