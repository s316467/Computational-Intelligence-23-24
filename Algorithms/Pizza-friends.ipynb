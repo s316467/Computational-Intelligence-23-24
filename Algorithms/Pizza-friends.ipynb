{
 "cells": [
  {
   "cell_type": "code",
   "execution_count": null,
   "metadata": {},
   "outputs": [],
   "source": [
    "NUM_FRIENDS = 4"
   ]
  },
  {
   "cell_type": "code",
   "execution_count": null,
   "metadata": {},
   "outputs": [],
   "source": [
    "from gx_utils import *"
   ]
  },
  {
   "cell_type": "code",
   "execution_count": null,
   "metadata": {},
   "outputs": [],
   "source": [
    "from itertools import product, combinations\n",
    "import matplotlib.pyplot as plt\n",
    "import networkx as nx\n",
    "from networkx.drawing.nx_pydot import graphviz_layout"
   ]
  },
  {
   "cell_type": "code",
   "execution_count": null,
   "metadata": {},
   "outputs": [],
   "source": [
    "def node2sets(node):\n",
    "    pizzeria, pub = node.split(\"-\")\n",
    "    return Multiset(pizzeria), Multiset(pub)\n",
    "\n",
    "\n",
    "def sets2node(pizzeria, pub):\n",
    "    return \"\".join(pizzeria) + \"-\" + \"\".join(pub)\n",
    "\n",
    "\n",
    "sspace = nx.Graph()\n",
    "for c, d, b in product(range(NUM_FRIENDS // 2 + 1), range(NUM_FRIENDS // 2 + 1), [True, False]):\n",
    "    pizzeria = (\"*\" if b else \"\") + \"C\" * c + \"D\" * d\n",
    "    pub = (\"*\" if not b else \"\") + \"C\" * (NUM_FRIENDS // 2 - c) + \"D\" * (NUM_FRIENDS // 2 - d)\n",
    "    sspace.add_node(pizzeria + \"-\" + pub)\n",
    "SOURCE = \"*\" + \"C\" * (NUM_FRIENDS // 2) + \"D\" * (NUM_FRIENDS // 2) + \"-\"\n",
    "DESTINATION = \"-*\" + \"C\" * (NUM_FRIENDS // 2) + \"D\" * (NUM_FRIENDS // 2)\n",
    "\n",
    "plt.figure(figsize=(12, 8))\n",
    "nx.draw(sspace, with_labels=True)"
   ]
  },
  {
   "cell_type": "code",
   "execution_count": null,
   "metadata": {},
   "outputs": [],
   "source": [
    "def valid_node(node):\n",
    "    pizzeria, pub = node2sets(node)\n",
    "    return valid_location(pizzeria) and valid_location(pub)\n",
    "\n",
    "\n",
    "def valid_location(loc):\n",
    "    if loc.count(\"*\") == 1 and len(loc) == 1:\n",
    "        return False\n",
    "    if 0 < loc.count(\"D\") < loc.count(\"C\"):\n",
    "        return False\n",
    "    return True\n",
    "\n",
    "\n",
    "plt.figure(figsize=(12, 8))\n",
    "nx.draw(\n",
    "    sspace,\n",
    "    with_labels=True,\n",
    "    node_color=[\"lightgreen\" if valid_node(n) else \"lightcoral\" for n in sspace],\n",
    ")"
   ]
  },
  {
   "cell_type": "code",
   "execution_count": null,
   "metadata": {},
   "outputs": [],
   "source": [
    "def bike(from_, to):\n",
    "    possible = list()\n",
    "    for b in [\"*C\", \"*CC\", \"*D\", \"*DD\", \"*CD\"]:\n",
    "        bike = Multiset(b)\n",
    "        if bike <= from_:\n",
    "            possible.append(sets2node(from_ - bike, to + bike))\n",
    "    return possible\n",
    "\n",
    "valid_sspace = nx.Graph()\n",
    "\n",
    "for node in sspace.nodes:\n",
    "    if valid_node(node):\n",
    "        valid_sspace.add_node(node)\n",
    "\n",
    "for n1, n2 in [(a, b) for a in valid_sspace.nodes for b in bike(*node2sets(a)) if valid_node(b)]:\n",
    "    valid_sspace.add_edge(n1, n2)\n",
    "\n",
    "plt.figure(figsize=(12, 8))\n",
    "node_color = [\"pink\" if n == SOURCE or n == DESTINATION else \"lightblue\" for n in valid_sspace] \n",
    "# pink point is the starting point\n",
    "nx.draw(valid_sspace, pos=graphviz_layout(valid_sspace, prog=\"neato\"), with_labels=True, node_color=node_color)"
   ]
  },
  {
   "cell_type": "code",
   "execution_count": null,
   "metadata": {},
   "outputs": [],
   "source": [
    "nx.shortest_path(valid_sspace, SOURCE, DESTINATION)"
   ]
  }
 ],
 "metadata": {
  "language_info": {
   "name": "python"
  }
 },
 "nbformat": 4,
 "nbformat_minor": 2
}
