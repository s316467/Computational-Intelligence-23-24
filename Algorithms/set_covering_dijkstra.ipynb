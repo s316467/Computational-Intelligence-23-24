{
 "cells": [
  {
   "cell_type": "code",
   "execution_count": null,
   "metadata": {},
   "outputs": [],
   "source": [
    "# Given a certain number of blocks in order to cover a set (represented for example as a line), we want to pick the minimum number of blocks (or smaller lines).\n",
    "# the problem is discretized, so instead of having a continuos line we consider blocks of continuous data\n",
    "# we may use a set with all taken pieces {T} and another one with not taken ones {N} (and can be seen as the state of the problem)"
   ]
  },
  {
   "cell_type": "code",
   "execution_count": null,
   "metadata": {},
   "outputs": [],
   "source": [
    "\"\"\" The code addresses a problem where there are multiple sets (SETS) of boolean values (True or False) representing elements. The goal is to find a combination of these sets such that, when combined using a logical OR operation, all elements are True.\n",
    "\n",
    "It generates 10 (NUM_SETS) sets, each containing 5 (PROBLEM_SIZE) random boolean values, where the chance of a value being True is 0.3.\n",
    "It then uses a depth-first search (DFS) approach (indicated by using a LifoQueue) to explore the combinations of these sets.\n",
    "The goal_check function verifies whether a given combination of sets satisfies the objective.\n",
    "The solution state contains two fields:\n",
    "taken: Sets that are selected in the combination.\n",
    "not_taken: Sets that are not selected in the combination.\n",
    "The DFS continues until a solution (combination of sets) is found or all possibilities are exhausted. \"\"\""
   ]
  },
  {
   "cell_type": "code",
   "execution_count": null,
   "metadata": {},
   "outputs": [],
   "source": [
    "from random import random\n",
    "from queue import PriorityQueue, SimpleQueue, LifoQueue\n",
    "from functools import reduce\n",
    "import numpy as np\n",
    "from collections import namedtuple,defaultdict"
   ]
  },
  {
   "cell_type": "code",
   "execution_count": null,
   "metadata": {},
   "outputs": [],
   "source": [
    "# Define the problem size and the number of sets\n",
    "PROBLEM_SIZE = 5 # can be defined as constant (but in reality can always be modified, it's just syntax)\n",
    "NUMBER_SETS = 10\n",
    "\n",
    "# Generate NUM_SETS number of sets with PROBLEM_SIZE boolean values each\n",
    "# Each value has a 0.3 probability of being True\n",
    "SETS = tuple(np.array([random() < .3 for _ in range(PROBLEM_SIZE)]) for _ in range(NUMBER_SETS)) # .2 is chance of an element to be true\n",
    "\n",
    "# Define a named tuple to represent the state with fields 'taken' and 'not_taken'\n",
    "State = namedtuple('State', ['taken', 'not_taken'])"
   ]
  },
  {
   "cell_type": "code",
   "execution_count": null,
   "metadata": {},
   "outputs": [],
   "source": [
    "# Function to check if a given state meets the goal (all elements combined are True)\n",
    "def goal_check(state):\n",
    "    return np.all(reduce(np.logical_or,[SETS[i] for i in state.taken], np.array([False for _ in range(PROBLEM_SIZE)]))) "
   ]
  },
  {
   "cell_type": "code",
   "execution_count": null,
   "metadata": {},
   "outputs": [],
   "source": [
    "# Check if the problem is solvable\n",
    "assert goal_check(State(set(range(NUMBER_SETS)), set())), \"Problem not solvable\""
   ]
  },
  {
   "cell_type": "code",
   "execution_count": null,
   "metadata": {},
   "outputs": [],
   "source": [
    "# state = ({1,3,5}, {0,2,4,6,7}) # (Taken, not taken)"
   ]
  },
  {
   "cell_type": "code",
   "execution_count": null,
   "metadata": {},
   "outputs": [],
   "source": [
    "# [SETS[i] for i in state[0]]"
   ]
  },
  {
   "cell_type": "code",
   "execution_count": null,
   "metadata": {},
   "outputs": [],
   "source": [
    "# sum(SETS[i] for i in state[0])"
   ]
  },
  {
   "cell_type": "code",
   "execution_count": null,
   "metadata": {},
   "outputs": [],
   "source": [
    "# np.all(reduce(np.logical_or,[SETS[i] for i in state[0]])) # final assessment that all spaces in tuple have been covered"
   ]
  },
  {
   "cell_type": "code",
   "execution_count": null,
   "metadata": {},
   "outputs": [],
   "source": [
    "#state = (set(range(NUMBER_SETS)), set())\n",
    "#state"
   ]
  },
  {
   "cell_type": "code",
   "execution_count": null,
   "metadata": {},
   "outputs": [],
   "source": [
    "#goal_check(state)"
   ]
  },
  {
   "cell_type": "code",
   "execution_count": null,
   "metadata": {},
   "outputs": [],
   "source": [
    "#sum([SETS[i] for i in state[0]]) # overlapping of sets seen"
   ]
  },
  {
   "cell_type": "code",
   "execution_count": null,
   "metadata": {},
   "outputs": [],
   "source": [
    "# Use a LifoQueue for depth-first search\n",
    "frontier = LifoQueue() # Simple -> breath first approach, with priority queue instead random elements from the frontier get extracted, Lifo in this case is better\n",
    "frontier.put(State(set(), set(range(NUMBER_SETS))))\n",
    "frontier.get()"
   ]
  },
  {
   "cell_type": "code",
   "execution_count": null,
   "metadata": {},
   "outputs": [],
   "source": [
    "# Counter to keep track of steps taken\n",
    "counter = 0\n",
    "\n",
    "# Start DFS until a goal state is reached or all possibilities are explored\n",
    "current_state = frontier.get()\n",
    "while not goal_check(current_state):\n",
    "    counter += 1\n",
    "    for action in current_state[1]:\n",
    "        new_state = State(current_state.taken ^ {action}, current_state.not_taken ^ {action})\n",
    "        frontier.put(new_state)\n",
    "    current_state = frontier.get()\n",
    "\n",
    "# Print the solution state and verify it meets the goal\n",
    "print(f\"Solved in {counter:,} steps\")\n",
    "# still won't work from time to time, but same on prof code"
   ]
  },
  {
   "cell_type": "code",
   "execution_count": null,
   "metadata": {},
   "outputs": [],
   "source": [
    "goal_check(current_state)"
   ]
  },
  {
   "cell_type": "code",
   "execution_count": null,
   "metadata": {},
   "outputs": [],
   "source": [
    "# try then implementing Dijkstra's algorithms\n",
    "\n",
    "# GPT generated\n",
    "\n",
    "def dijkstra(start):\n",
    "    # Dictionary to store the shortest distances from the start state\n",
    "    shortest_distance = defaultdict(lambda: float('inf')) # that is infinite, so if nothing found instead of error I return infinite\n",
    "    shortest_distance[start] = 0\n",
    "\n",
    "    # Priority queue to manage states based on distance\n",
    "    pq = PriorityQueue()\n",
    "    pq.put((0, start))\n",
    "\n",
    "    while not pq.empty():\n",
    "        current_distance, current_state = pq.get()\n",
    "\n",
    "        if current_distance > shortest_distance[current_state]:\n",
    "            continue\n",
    "\n",
    "        for action in current_state.not_taken:\n",
    "            new_state = State(current_state.taken | frozenset({action}), current_state.not_taken - frozenset({action}))\n",
    "\n",
    "            distance = current_distance + 1  # using a mock weight of 1 for each transition\n",
    "            if distance < shortest_distance[new_state]:\n",
    "                shortest_distance[new_state] = distance\n",
    "                pq.put((distance, new_state))\n",
    "\n",
    "    return shortest_distance\n",
    "\n",
    "# Get shortest distances from the start state to all other states\n",
    "distances = dijkstra(State(frozenset(), frozenset(range(NUMBER_SETS))))\n",
    "\n",
    "# Find a state that meets the goal and has the shortest distance\n",
    "goal_state = min((state for state in distances if goal_check(state)), key=lambda s: distances[s])\n",
    "\n",
    "print(f\"Solved with a distance of {distances[goal_state]}\")\n",
    "print(goal_state)\n",
    "print(goal_check(goal_state))"
   ]
  }
 ],
 "metadata": {
  "language_info": {
   "name": "python"
  }
 },
 "nbformat": 4,
 "nbformat_minor": 2
}
