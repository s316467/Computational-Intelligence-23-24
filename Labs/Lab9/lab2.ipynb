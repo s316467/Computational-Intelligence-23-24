{
 "cells": [
  {
   "cell_type": "markdown",
   "metadata": {},
   "source": [
    "Copyright **`(c)`** 2023 Antonio Ferrigno `<s316467@polito.it>`  \n",
    "[`https://github.com/s316467/Computational-Intelligence-23-24/tree/main`](https://github.com/s316467/Computational-Intelligence-23-24/tree/main)  \n",
    "Free for personal or classroom use; see [`LICENSE.md`](https://github.com/s316467/Computational-Intelligence-23-24/tree/main/LICENSE.md) for details."
   ]
  },
  {
   "cell_type": "markdown",
   "metadata": {},
   "source": [
    "# LAB9\n",
    "\n",
    "Wrote a local-search algorithm (eg. an EA) able to solve the *Problem* instances 1, 2, 5, and 10 on a 1000-loci genomes, using a minimum number of fitness calls. That's all.\n",
    "\n",
    "### Deadlines:\n",
    "\n",
    "* Submission: Sunday, December 3 ([CET](https://www.timeanddate.com/time/zones/cet))\n",
    "* Reviews: Friday, December 8 ([CET](https://www.timeanddate.com/time/zones/cet))\n",
    "\n",
    "Notes:\n",
    "\n",
    "* Reviews will be assigned  on Monday, November 27\n",
    "* You need to commit in order to be selected as a reviewer (ie. better to commit an empty work than not to commit)"
   ]
  },
  {
   "cell_type": "code",
   "execution_count": 11,
   "metadata": {},
   "outputs": [],
   "source": [
    "from random import choices, random, randint, sample\n",
    "\n",
    "import lab2_lib"
   ]
  },
  {
   "cell_type": "code",
   "execution_count": 7,
   "metadata": {},
   "outputs": [],
   "source": [
    "# Function to create a specific problem instance\n",
    "def create_problem_instance(instance_number):\n",
    "    return lab2_lib.make_problem(instance_number)"
   ]
  },
  {
   "cell_type": "code",
   "execution_count": 9,
   "metadata": {},
   "outputs": [],
   "source": [
    "# Initialize a population of genomes\n",
    "def initialize_population(size, length):\n",
    "    return [choices([0, 1], k=length) for _ in range(size)]\n",
    "\n",
    "# Evaluate the fitness of each genome with optimization\n",
    "def evaluate_population(population, previous_population, previous_fitness_values):\n",
    "    new_fitness_values = []\n",
    "    for i, individual in enumerate(population):\n",
    "        if not previous_population or individual != previous_population[i]:\n",
    "            new_fitness_values.append(fitness(individual))\n",
    "        else:\n",
    "            new_fitness_values.append(previous_fitness_values[i])\n",
    "    return new_fitness_values\n",
    "\n",
    "# Tournament selection\n",
    "def tournament_selection(population, fitnesses, tournament_size=3):\n",
    "    selected = []\n",
    "    for _ in range(2):\n",
    "        tournament = sample(list(zip(population, fitnesses)), tournament_size)\n",
    "        selected.append(max(tournament, key=lambda x: x[1])[0])\n",
    "    return selected\n",
    "\n",
    "# Perform crossover between two parents\n",
    "def crossover(parent1, parent2):\n",
    "    crossover_point = randint(1, len(parent1) - 1)\n",
    "    child1 = parent1[:crossover_point] + parent2[crossover_point:]\n",
    "    child2 = parent2[:crossover_point] + parent1[crossover_point:]\n",
    "    return child1, child2\n",
    "\n",
    "# Mutate a genome\n",
    "def mutate(genome):\n",
    "    for i in range(len(genome)):\n",
    "        if random() < mutation_rate:\n",
    "            genome[i] = 1 - genome[i]\n",
    "    return genome"
   ]
  },
  {
   "cell_type": "code",
   "execution_count": 37,
   "metadata": {},
   "outputs": [
    {
     "name": "stdout",
     "output_type": "stream",
     "text": [
      "Convergence reached at generation 1.\n",
      "Best Fitness: 0.565\n",
      "Total Fitness Calls: 300\n"
     ]
    }
   ],
   "source": [
    "# Choose the problem instance here\n",
    "problem_instance_number = 1  # Change this to 1, 2, 5, 10 or 1000 as needed\n",
    "fitness = create_problem_instance(problem_instance_number)\n",
    "\n",
    "# Parameters\n",
    "genome_length = 1000\n",
    "population_size = 100\n",
    "max_generations = 1000\n",
    "mutation_rate = 0.01\n",
    "convergence_threshold = 0.01  # Threshold for convergence-based termination\n",
    "\n",
    "# Main Evolutionary Algorithm\n",
    "population = initialize_population(population_size, genome_length)\n",
    "previous_population = []\n",
    "fitness_values = evaluate_population(population, previous_population, [])\n",
    "\n",
    "best_fitness_history = []\n",
    "\n",
    "for generation in range(max_generations):\n",
    "    new_population = []\n",
    "    for _ in range(population_size // 2):\n",
    "        parent1, parent2 = tournament_selection(population, fitness_values)\n",
    "        child1, child2 = crossover(parent1, parent2)\n",
    "        child1 = mutate(child1)\n",
    "        child2 = mutate(child2)\n",
    "        new_population.extend([child1, child2])\n",
    "\n",
    "    fitness_values = evaluate_population(new_population, population, fitness_values)\n",
    "    population = new_population\n",
    "\n",
    "    best_fitness = max(fitness_values)\n",
    "    best_fitness_history.append(best_fitness)\n",
    "\n",
    "    # Convergence check\n",
    "    if generation > 0 and abs(best_fitness - best_fitness_history[-2]) < convergence_threshold:\n",
    "        print(f\"Convergence reached at generation {generation}.\")\n",
    "        break\n",
    "\n",
    "    # Optional: Print best fitness in each generation\n",
    "    # print(f\"Generation {generation}: Best Fitness = {best_fitness}\")\n",
    "\n",
    "# Find and print the best solution\n",
    "best_fitness = max(fitness_values)\n",
    "best_genome = population[fitness_values.index(best_fitness)]\n",
    "# print(\"Best Genome:\", best_genome) # may be too long to print\n",
    "print(\"Best Fitness:\", best_fitness)\n",
    "print(\"Total Fitness Calls:\", fitness.calls)"
   ]
  }
 ],
 "metadata": {
  "kernelspec": {
   "display_name": "ci-fLJ3OwGs-py3.12",
   "language": "python",
   "name": "python3"
  },
  "language_info": {
   "codemirror_mode": {
    "name": "ipython",
    "version": 3
   },
   "file_extension": ".py",
   "mimetype": "text/x-python",
   "name": "python",
   "nbconvert_exporter": "python",
   "pygments_lexer": "ipython3",
   "version": "3.11.5"
  }
 },
 "nbformat": 4,
 "nbformat_minor": 2
}
