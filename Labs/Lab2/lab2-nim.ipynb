{
 "cells": [
  {
   "cell_type": "markdown",
   "metadata": {
    "pycharm": {
     "name": "#%% md\n"
    }
   },
   "source": [
    "Copyright **`(c)`** 2023 Antonio Ferrigno `<s316467@polito.it>`  \n",
    "[`https://github.com/s316467/Computational-Intelligence-23-24/tree/main`](https://github.com/s316467/Computational-Intelligence-23-24/tree/main)  \n",
    "Free for personal or classroom use; see [`LICENSE.md`](https://github.com/s316467/Computational-Intelligence-23-24/tree/main/LICENSE.md) for details.  \n"
   ]
  },
  {
   "cell_type": "markdown",
   "metadata": {
    "pycharm": {
     "name": "#%%\n"
    }
   },
   "source": [
    "# Lab 3: ES\n",
    "\n",
    "## Task\n",
    "\n",
    "Write agents able to play [*Nim*](https://en.wikipedia.org/wiki/Nim), with an arbitrary number of rows and an upper bound $k$ on the number of objects that can be removed in a turn (a.k.a., *subtraction game*).\n",
    "\n",
    "The goal of the game is to **avoid** taking the last object.\n",
    "\n",
    "* Task2.1: An agent using fixed rules based on *nim-sum* (i.e., an *expert system*)\n",
    "* Task2.2: An agent using evolved rules using ES\n",
    "\n",
    "## Instructions\n",
    "\n",
    "* Create the directory `lab2` inside the course repo \n",
    "* Put a `README.md` and your solution (all the files, code and auxiliary data if needed)\n",
    "\n",
    "## Notes\n",
    "\n",
    "* Working in group is not only allowed, but recommended (see: [Ubuntu](https://en.wikipedia.org/wiki/Ubuntu_philosophy) and [Cooperative Learning](https://files.eric.ed.gov/fulltext/EJ1096789.pdf)). Collaborations must be explicitly declared in the `README.md`.\n",
    "* [Yanking](https://www.emacswiki.org/emacs/KillingAndYanking) from the internet is allowed, but sources must be explicitly declared in the `README.md`.\n",
    "\n"
   ]
  },
  {
   "cell_type": "code",
   "execution_count": 19,
   "metadata": {},
   "outputs": [],
   "source": [
    "import logging\n",
    "from pprint import pprint, pformat\n",
    "from collections import namedtuple\n",
    "import random\n",
    "from copy import deepcopy\n"
   ]
  },
  {
   "cell_type": "markdown",
   "metadata": {},
   "source": [
    "## The *Nim* and *Nimply* classes"
   ]
  },
  {
   "cell_type": "code",
   "execution_count": 20,
   "metadata": {},
   "outputs": [],
   "source": [
    "Nimply = namedtuple(\"Nimply\", \"row, num_objects\")\n"
   ]
  },
  {
   "cell_type": "code",
   "execution_count": 21,
   "metadata": {},
   "outputs": [],
   "source": [
    "class Nim:\n",
    "    def __init__(self, num_rows: int, k: int = None) -> None:\n",
    "        self._rows = [i * 2 + 1 for i in range(num_rows)]\n",
    "        self._k = k\n",
    "\n",
    "    def __bool__(self):\n",
    "        return sum(self._rows) > 0\n",
    "\n",
    "    def __str__(self):\n",
    "        return \"<\" + \" \".join(str(_) for _ in self._rows) + \">\"\n",
    "\n",
    "    @property\n",
    "    def rows(self) -> tuple:\n",
    "        return tuple(self._rows)\n",
    "\n",
    "    def nimming(self, ply: Nimply) -> None:\n",
    "        row, num_objects = ply\n",
    "        assert self._rows[row] >= num_objects\n",
    "        assert self._k is None or num_objects <= self._k\n",
    "        self._rows[row] -= num_objects\n"
   ]
  },
  {
   "cell_type": "markdown",
   "metadata": {},
   "source": [
    "## Sample (and silly) startegies "
   ]
  },
  {
   "cell_type": "code",
   "execution_count": 22,
   "metadata": {},
   "outputs": [],
   "source": [
    "def pure_random(state: Nim) -> Nimply:\n",
    "    \"\"\"A completely random move\"\"\"\n",
    "    row = random.choice([r for r, c in enumerate(state.rows) if c > 0])\n",
    "    num_objects = random.randint(1, state.rows[row])\n",
    "    return Nimply(row, num_objects)\n"
   ]
  },
  {
   "cell_type": "code",
   "execution_count": 23,
   "metadata": {},
   "outputs": [],
   "source": [
    "def gabriele(state: Nim) -> Nimply:\n",
    "    \"\"\"Pick always the maximum possible number of the lowest row\"\"\"\n",
    "    possible_moves = [(r, o) for r, c in enumerate(state.rows) for o in range(1, c + 1)]\n",
    "    return Nimply(*max(possible_moves, key=lambda m: (-m[0], m[1])))\n"
   ]
  },
  {
   "cell_type": "code",
   "execution_count": 24,
   "metadata": {},
   "outputs": [],
   "source": [
    "def adaptive(state: Nim) -> Nimply:\n",
    "    \"\"\"A strategy that can adapt its parameters\"\"\"\n",
    "    genome = {\"love_small\": 0.5}\n"
   ]
  },
  {
   "cell_type": "markdown",
   "metadata": {},
   "source": [
    "## Evolutional Strategy approach"
   ]
  },
  {
   "cell_type": "code",
   "execution_count": 25,
   "metadata": {},
   "outputs": [],
   "source": [
    "number_of_games = 100  # define the number of games each agent should play to evaluate its fitness\n",
    "\n",
    "perfect_score = number_of_games # define the perfect score condition\n",
    "\n",
    "class NimAgent:\n",
    "    def __init__(self, genome):\n",
    "        self.genome = genome\n",
    "\n",
    "    def make_move(self, state):\n",
    "        # Here we'll just use a simple strategy based on the genome.\n",
    "        # Let's assume the genome is a list of preferences for each row.\n",
    "        # The higher the number, the more the agent prefers to take from that row.\n",
    "        \n",
    "        # Get the non-empty rows and their respective preferences from the genome\n",
    "        moves = [(row, min(state.rows[row], max(1, int(self.genome[row] * state.rows[row]))))\n",
    "                 for row in range(len(state.rows)) if state.rows[row] > 0]\n",
    "\n",
    "        # Select the move with the highest preference\n",
    "        # (You could also incorporate randomness here based on the genome)\n",
    "        chosen_move = max(moves, key=lambda x: self.genome[x[0]])\n",
    "\n",
    "        # Return the move as a Nimply object\n",
    "        return Nimply(*chosen_move)\n",
    "\n",
    "def play_game(agent, nim):\n",
    "    # Logic to play a game of Nim using the agent's strategy\n",
    "    while nim:\n",
    "        ply = agent.make_move(nim)\n",
    "        nim.nimming(ply)\n",
    "        if not nim:\n",
    "            return 1  # agent wins\n",
    "    return 0  # agent loses\n",
    "\n",
    "def crossover(genome1, genome2):\n",
    "    # Logic for combining two genomes\n",
    "    child_genome = []\n",
    "    for g1, g2 in zip(genome1, genome2):\n",
    "        child_genome.append(random.choice([g1, g2]))\n",
    "    return child_genome\n",
    "\n",
    "def mutate(genome, mutation_rate):\n",
    "    # Logic for mutating a genome\n",
    "    for i in range(len(genome)):\n",
    "        if random.random() < mutation_rate:\n",
    "            genome[i] += random.choice([-1, 1]) * random.random()  # Adjust mutation as per requirement\n",
    "    return genome\n",
    "\n",
    "def select_agents(population, fitness_scores):\n",
    "    # Logic to select the fittest agents\n",
    "    # Let's use a simple tournament selection\n",
    "    selected = []\n",
    "    while len(selected) < len(population) // 2:\n",
    "        participant = random.sample(list(zip(population, fitness_scores)), 2)\n",
    "        winner = max(participant, key=lambda x: x[1])\n",
    "        selected.append(winner[0])\n",
    "    return selected\n",
    "\n",
    "\n",
    "def initialize_population(pop_size, genome_length):\n",
    "    population = [NimAgent([random.random() for _ in range(genome_length)]) for _ in range(pop_size)]\n",
    "    return population\n",
    "\n",
    "def evaluate_population(population, nim):\n",
    "    fitness_scores = []\n",
    "\n",
    "    for agent in population:\n",
    "        score = 0\n",
    "        # Play a number of games and record the score\n",
    "        for _ in range(number_of_games):\n",
    "            result = play_game(agent, nim)\n",
    "            score += result\n",
    "        fitness_scores.append(score)\n",
    "    \n",
    "    return fitness_scores\n",
    "\n",
    "def reproduce(selected_agents, mutation_rate):\n",
    "    new_population = []\n",
    "\n",
    "    while len(new_population) < len(selected_agents):\n",
    "        parent1, parent2 = random.sample(selected_agents, 2)\n",
    "        child_genome = crossover(parent1.genome, parent2.genome)\n",
    "        child_genome = mutate(child_genome, mutation_rate)\n",
    "        new_population.append(NimAgent(child_genome))\n",
    "    \n",
    "    return new_population\n",
    "\n",
    "def replacement(population, new_population, fitness_scores):\n",
    "    # Sort the population by fitness and replace the worst ones\n",
    "    sorted_population = sorted(zip(population, fitness_scores), key=lambda x: x[1], reverse=True)\n",
    "    survivors = sorted_population[:len(population) - len(new_population)]\n",
    "    return [agent for agent, score in survivors] + new_population\n",
    "\n",
    "def evolutionary_strategy(nim, generations, pop_size, mutation_rate):\n",
    "    population = initialize_population(pop_size, len(nim.rows))\n",
    "\n",
    "    for generation in range(generations):\n",
    "        fitness_scores = evaluate_population(population, nim)\n",
    "        selected_agents = select_agents(population, fitness_scores)\n",
    "        new_population = reproduce(selected_agents, mutation_rate)\n",
    "        population = replacement(population, new_population, fitness_scores)\n",
    "        print(f\"Generation {generation}: Best score {max(fitness_scores)}\")\n",
    "\n",
    "        # Check for termination condition (e.g., a perfect score)\n",
    "        if max(fitness_scores) >= perfect_score:\n",
    "            break\n",
    "\n",
    "    return population\n"
   ]
  },
  {
   "cell_type": "code",
   "execution_count": 26,
   "metadata": {},
   "outputs": [],
   "source": [
    "import numpy as np\n",
    "\n",
    "\n",
    "def nim_sum(state: Nim) -> int:\n",
    "    tmp = np.array([tuple(int(x) for x in f\"{c:032b}\") for c in state.rows])\n",
    "    xor = tmp.sum(axis=0) % 2\n",
    "    return int(\"\".join(str(_) for _ in xor), base=2)\n",
    "\n",
    "\n",
    "def analize(raw: Nim) -> dict:\n",
    "    cooked = dict()\n",
    "    cooked[\"possible_moves\"] = dict()\n",
    "    for ply in (Nimply(r, o) for r, c in enumerate(raw.rows) for o in range(1, c + 1)):\n",
    "        tmp = deepcopy(raw)\n",
    "        tmp.nimming(ply)\n",
    "        cooked[\"possible_moves\"][ply] = nim_sum(tmp)\n",
    "    return cooked\n",
    "\n",
    "\n",
    "def optimal(state: Nim) -> Nimply:\n",
    "    analysis = analize(state)\n",
    "    logging.debug(f\"analysis:\\n{pformat(analysis)}\")\n",
    "    spicy_moves = [ply for ply, ns in analysis[\"possible_moves\"].items() if ns != 0]\n",
    "    if not spicy_moves:\n",
    "        spicy_moves = list(analysis[\"possible_moves\"].keys())\n",
    "    ply = random.choice(spicy_moves)\n",
    "    return ply\n"
   ]
  },
  {
   "cell_type": "markdown",
   "metadata": {},
   "source": [
    "## Oversimplified match"
   ]
  },
  {
   "cell_type": "code",
   "execution_count": 38,
   "metadata": {},
   "outputs": [
    {
     "name": "stderr",
     "output_type": "stream",
     "text": [
      "INFO:root:Initial state: <1 3 5 7 9>\n",
      "INFO:root:Player 0 plays Nimply(row=1, num_objects=2)\n",
      "INFO:root:State after move: <1 1 5 7 9>\n",
      "INFO:root:Player 1 plays Nimply(row=1, num_objects=1)\n",
      "INFO:root:State after move: <1 0 5 7 9>\n",
      "INFO:root:Player 0 plays Nimply(row=0, num_objects=1)\n",
      "INFO:root:State after move: <0 0 5 7 9>\n",
      "INFO:root:Player 1 plays Nimply(row=2, num_objects=2)\n",
      "INFO:root:State after move: <0 0 3 7 9>\n",
      "INFO:root:Player 0 plays Nimply(row=2, num_objects=2)\n",
      "INFO:root:State after move: <0 0 1 7 9>\n",
      "INFO:root:Player 1 plays Nimply(row=3, num_objects=4)\n",
      "INFO:root:State after move: <0 0 1 3 9>\n",
      "INFO:root:Player 0 plays Nimply(row=2, num_objects=1)\n",
      "INFO:root:State after move: <0 0 0 3 9>\n",
      "INFO:root:Player 1 plays Nimply(row=4, num_objects=9)\n",
      "INFO:root:State after move: <0 0 0 3 0>\n",
      "INFO:root:Player 0 plays Nimply(row=3, num_objects=1)\n",
      "INFO:root:State after move: <0 0 0 2 0>\n",
      "INFO:root:Player 1 plays Nimply(row=3, num_objects=2)\n",
      "INFO:root:State after move: <0 0 0 0 0>\n",
      "INFO:root:Player 1 wins!\n"
     ]
    },
    {
     "name": "stdout",
     "output_type": "stream",
     "text": [
      "Generation 0: Best score 1\n",
      "Generation 1: Best score 0\n",
      "Generation 2: Best score 0\n",
      "Generation 3: Best score 0\n",
      "Generation 4: Best score 0\n",
      "Generation 5: Best score 0\n",
      "Generation 6: Best score 0\n",
      "Generation 7: Best score 0\n",
      "Generation 8: Best score 0\n",
      "Generation 9: Best score 0\n",
      "Generation 10: Best score 0\n",
      "Generation 11: Best score 0\n",
      "Generation 12: Best score 0\n",
      "Generation 13: Best score 0\n",
      "Generation 14: Best score 0\n",
      "Generation 15: Best score 0\n",
      "Generation 16: Best score 0\n",
      "Generation 17: Best score 0\n",
      "Generation 18: Best score 0\n",
      "Generation 19: Best score 0\n",
      "Generation 20: Best score 0\n",
      "Generation 21: Best score 0\n",
      "Generation 22: Best score 0\n",
      "Generation 23: Best score 0\n",
      "Generation 24: Best score 0\n",
      "Generation 25: Best score 0\n",
      "Generation 26: Best score 0\n",
      "Generation 27: Best score 0\n",
      "Generation 28: Best score 0\n",
      "Generation 29: Best score 0\n",
      "Generation 30: Best score 0\n",
      "Generation 31: Best score 0\n",
      "Generation 32: Best score 0\n",
      "Generation 33: Best score 0\n",
      "Generation 34: Best score 0\n",
      "Generation 35: Best score 0\n",
      "Generation 36: Best score 0\n",
      "Generation 37: Best score 0\n",
      "Generation 38: Best score 0\n",
      "Generation 39: Best score 0\n",
      "Generation 40: Best score 0\n",
      "Generation 41: Best score 0\n",
      "Generation 42: Best score 0\n",
      "Generation 43: Best score 0\n",
      "Generation 44: Best score 0\n",
      "Generation 45: Best score 0\n",
      "Generation 46: Best score 0\n",
      "Generation 47: Best score 0\n",
      "Generation 48: Best score 0\n",
      "Generation 49: Best score 0\n"
     ]
    }
   ],
   "source": [
    "import logging\n",
    "\n",
    "# Set the logging level to INFO to see the details of the game play\n",
    "logging.getLogger().setLevel(logging.INFO)\n",
    "\n",
    "# Set parameters for the evolutionary strategy\n",
    "num_rows = 5  # number of rows in the Nim game\n",
    "generations = 50  # number of generations to run the evolution\n",
    "pop_size = 100  # size of the agent population\n",
    "mutation_rate = 0.05  # mutation rate for the evolutionary strategy\n",
    "\n",
    "# Initialize the Nim game\n",
    "nim_game = Nim(num_rows)\n",
    "\n",
    "# Run the evolutionary strategy to get a population of evolved agents\n",
    "evolved_population = evolutionary_strategy(nim_game, generations, pop_size, mutation_rate)\n",
    "\n",
    "# Evaluate the final population to find the best agent\n",
    "fitness_scores = evaluate_population(evolved_population, nim_game)\n",
    "best_agent_index = fitness_scores.index(max(fitness_scores))\n",
    "best_agent = evolved_population[best_agent_index]\n",
    "\n",
    "# Now let's play a game with the best agent from the evolutionary strategy\n",
    "nim = Nim(num_rows)\n",
    "player = 0  # Let's say our evolved agent is player 0\n",
    "\n",
    "# Select a strategy for the opponent, for example, a pure random strategy\n",
    "opponent_strategy = pure_random\n",
    "\n",
    "logging.info(f\"Initial state: {nim}\")\n",
    "\n",
    "while nim:\n",
    "    if player == 0:\n",
    "        # Use the best agent found by the evolutionary strategy to play\n",
    "        ply = best_agent.make_move(nim)\n",
    "    else:\n",
    "        # Use a pre-defined strategy for the opponent\n",
    "        ply = opponent_strategy(nim)\n",
    "\n",
    "    logging.info(f\"Player {player} plays {ply}\")\n",
    "    nim.nimming(ply)\n",
    "    logging.info(f\"State after move: {nim}\")\n",
    "\n",
    "    if not nim:\n",
    "        logging.info(f\"Player {player} wins!\")\n",
    "        break\n",
    "\n",
    "    player = 1 - player  # Switch players\n"
   ]
  }
 ],
 "metadata": {
  "kernelspec": {
   "display_name": "Python 3.10.7 ('ci22-dPIXJ0_o-py3.10')",
   "language": "python",
   "name": "python3"
  },
  "language_info": {
   "codemirror_mode": {
    "name": "ipython",
    "version": 3
   },
   "file_extension": ".py",
   "mimetype": "text/x-python",
   "name": "python",
   "nbconvert_exporter": "python",
   "pygments_lexer": "ipython3",
   "version": "3.11.6"
  },
  "vscode": {
   "interpreter": {
    "hash": "10197e8e2f2aa67e2c349105091c77f4cd384fce4877865f002d9ec653f96bc0"
   }
  }
 },
 "nbformat": 4,
 "nbformat_minor": 2
}
