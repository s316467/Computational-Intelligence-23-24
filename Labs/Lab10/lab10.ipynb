{
 "cells": [
  {
   "cell_type": "markdown",
   "metadata": {
    "pycharm": {
     "name": "#%% md\n"
    }
   },
   "source": [
    "Copyright **`(c)`** 2023 Antonio Ferrigno `<s316467@polito.it>`  \n",
    "[`https://github.com/s316467/Computational-Intelligence-23-24/tree/main`](https://github.com/s316467/Computational-Intelligence-23-24/tree/main)  \n",
    "Free for personal or classroom use; see [`LICENSE.md`](https://github.com/s316467/Computational-Intelligence-23-24/tree/main/LICENSE.md) for details.\n",
    "\n",
    "I have worked together with Matteo Di Iorio, s316606 [`https://github.com/Matteo-Di-Iorio-s316606/Computational_Intelligence_23-24`](https://github.com/Matteo-Di-Iorio-s316606/Computational_Intelligence_23-24) and Giulio Figliolino, s317510 [`https://github.com/giuliuss/computational-intelligence-2023`](https://github.com/giuliuss/computational-intelligence-2023)"
   ]
  },
  {
   "cell_type": "markdown",
   "metadata": {},
   "source": [
    "# LAB10\n",
    "\n",
    "Use reinforcement learning to devise a tic-tac-toe player.\n",
    "\n",
    "### Deadlines:\n",
    "\n",
    "* Submission: [Dies Natalis Solis Invicti](https://en.wikipedia.org/wiki/Sol_Invictus)\n",
    "* Reviews: [Befana](https://en.wikipedia.org/wiki/Befana)\n",
    "\n",
    "Notes:\n",
    "\n",
    "* Reviews will be assigned  on Monday, December 4\n",
    "* You need to commit in order to be selected as a reviewer (ie. better to commit an empty work than not to commit)"
   ]
  },
  {
   "cell_type": "code",
   "execution_count": 27,
   "metadata": {},
   "outputs": [],
   "source": [
    "import numpy as np\n",
    "import random\n",
    "from collections import defaultdict\n",
    "import matplotlib.pyplot as plt"
   ]
  },
  {
   "cell_type": "code",
   "execution_count": 28,
   "metadata": {},
   "outputs": [
    {
     "name": "stdout",
     "output_type": "stream",
     "text": [
      ". . .\n",
      ". . .\n",
      ". . .\n",
      "\n"
     ]
    }
   ],
   "source": [
    "class TicTacToe:\n",
    "    def __init__(self):\n",
    "        self.board = np.zeros((3, 3), dtype=int)\n",
    "        self.current_player = 1  # Player 1 starts the game\n",
    "\n",
    "    def reset(self):\n",
    "        self.board = np.zeros((3, 3), dtype=int)\n",
    "        self.current_player = 1\n",
    "        return self.board.flatten()\n",
    "\n",
    "    def step(self, action):\n",
    "        x, y = divmod(action, 3)\n",
    "        if self.board[x, y] != 0:\n",
    "            # Invalid move\n",
    "            return self.board.flatten(), -10, True, {}\n",
    "\n",
    "        self.board[x, y] = self.current_player\n",
    "\n",
    "        if self.check_winner(self.current_player):\n",
    "            # Current player wins\n",
    "            return self.board.flatten(), 1, True, {}\n",
    "\n",
    "        if np.all(self.board != 0):\n",
    "            # Draw\n",
    "            return self.board.flatten(), 0.5, True, {}\n",
    "\n",
    "        # Change player\n",
    "        self.current_player = 3 - self.current_player\n",
    "        return self.board.flatten(), 0, False, {}\n",
    "\n",
    "    def check_winner(self, player):\n",
    "        for i in range(3):\n",
    "            if np.all(self.board[i, :] == player) or np.all(self.board[:, i] == player):\n",
    "                return True\n",
    "        if np.all(np.diag(self.board) == player) or np.all(np.diag(np.fliplr(self.board)) == player):\n",
    "            return True\n",
    "        return False\n",
    "\n",
    "    def valid_actions(self):\n",
    "        return [i for i in range(9) if self.board.flatten()[i] == 0]\n",
    "\n",
    "    def render(self):\n",
    "        symbols = {0: '.', 1: 'X', 2: 'O'}\n",
    "        for row in self.board:\n",
    "            print(' '.join(symbols[i] for i in row))\n",
    "        print()\n",
    "\n",
    "# Test the TicTacToe class\n",
    "game = TicTacToe()\n",
    "game.reset()\n",
    "game.render()  # Display the empty board"
   ]
  },
  {
   "cell_type": "code",
   "execution_count": 29,
   "metadata": {},
   "outputs": [],
   "source": [
    "class QLearningAgent:\n",
    "    def __init__(self, alpha=0.1, gamma=0.9, epsilon=0.1):\n",
    "        self.q_table = defaultdict(lambda: np.zeros(9))\n",
    "        self.alpha = alpha    # Learning rate\n",
    "        self.gamma = gamma    # Discount factor\n",
    "        self.epsilon = epsilon # Exploration rate\n",
    "\n",
    "    def choose_action(self, state, valid_actions):\n",
    "        if random.uniform(0, 1) < self.epsilon:\n",
    "            # Explore: choose a random valid action\n",
    "            return random.choice(valid_actions)\n",
    "        else:\n",
    "            # Exploit: choose the best action based on current Q-values\n",
    "            q_values = self.q_table[state]\n",
    "            max_q_value = np.max(q_values[valid_actions])\n",
    "            max_actions = [a for a in valid_actions if q_values[a] == max_q_value]\n",
    "            return random.choice(max_actions)\n",
    "\n",
    "    def learn(self, state, action, reward, next_state, next_valid_actions, done):\n",
    "        old_value = self.q_table[state][action]\n",
    "        future_q = 0 if done else np.max(self.q_table[next_state][next_valid_actions])\n",
    "        new_value = (1 - self.alpha) * old_value + self.alpha * (reward + self.gamma * future_q)\n",
    "        self.q_table[state][action] = new_value\n",
    "\n",
    "def train_agent(episodes=1000):\n",
    "    agent = QLearningAgent()\n",
    "    env = TicTacToe()\n",
    "    \n",
    "    for episode in range(episodes):\n",
    "        state = env.reset()\n",
    "        done = False\n",
    "\n",
    "        while not done:\n",
    "            valid_actions = env.valid_actions()\n",
    "            action = agent.choose_action(tuple(state), valid_actions)\n",
    "            next_state, reward, done, _ = env.step(action)\n",
    "            next_valid_actions = env.valid_actions()\n",
    "            agent.learn(tuple(state), action, reward, tuple(next_state), next_valid_actions, done)\n",
    "            state = next_state\n",
    "\n",
    "    return agent\n",
    "\n",
    "# Train the agent\n",
    "trained_agent = train_agent(episodes=1000)"
   ]
  },
  {
   "cell_type": "code",
   "execution_count": 30,
   "metadata": {},
   "outputs": [
    {
     "data": {
      "text/plain": [
       "({'Wins': 77, 'Losses': 21, 'Draws': 2},\n",
       " [(1, 4), (2, 0), (1, 7), (2, 5), (1, 8), (2, 3), (1, 2), (2, 6)])"
      ]
     },
     "execution_count": 30,
     "metadata": {},
     "output_type": "execute_result"
    }
   ],
   "source": [
    "def evaluate_agent(agent, games=100):\n",
    "    env = TicTacToe()\n",
    "    results = {\"Wins\": 0, \"Losses\": 0, \"Draws\": 0}\n",
    "    all_game_moves = []  # Store all game moves for visualization\n",
    " \n",
    "    g = 0\n",
    "\n",
    "    for _ in range(games):\n",
    "        state = env.reset()\n",
    "        done = False\n",
    "\n",
    "        while not done:\n",
    "            # Agent's turn\n",
    "            valid_actions = env.valid_actions()\n",
    "            action = agent.choose_action(tuple(state), valid_actions)\n",
    "            state, reward, done, _ = env.step(action)\n",
    "\n",
    "            if(g == games -1):\n",
    "                all_game_moves.append((1, action))  # Store player 1's move\n",
    "\n",
    "            if done:\n",
    "                if reward == 1:  # Agent wins\n",
    "                    results[\"Wins\"] += 1\n",
    "                elif reward == 0.5:  # Draw\n",
    "                    results[\"Draws\"] += 1\n",
    "                break\n",
    "\n",
    "            # Random player's turn (opponent)\n",
    "            valid_actions = env.valid_actions()\n",
    "            action = random.choice(valid_actions)\n",
    "            state, reward, done, _ = env.step(action)\n",
    "\n",
    "            if(g == games -1):\n",
    "                all_game_moves.append((2, action))  # Store player 2's move\n",
    "\n",
    "            if done:\n",
    "                if reward == -10:  # Agent wins (opponent made invalid move)\n",
    "                    results[\"Wins\"] += 1\n",
    "                elif reward == 1:  # Opponent wins\n",
    "                    results[\"Losses\"] += 1\n",
    "                elif reward == 0.5:  # Draw\n",
    "                    results[\"Draws\"] += 1\n",
    "\n",
    "        g += 1\n",
    "\n",
    "    return (results, all_game_moves)  # Return results and all game moves as a tuple\n",
    "\n",
    "# Evaluate the trained agent\n",
    "evaluation_results = evaluate_agent(trained_agent, games=100)\n",
    "evaluation_results"
   ]
  },
  {
   "cell_type": "markdown",
   "metadata": {},
   "source": [
    "## Cross Validation"
   ]
  },
  {
   "cell_type": "code",
   "execution_count": 31,
   "metadata": {},
   "outputs": [],
   "source": [
    "def cross_validate_agents(alphas, gammas, epsilons, episodes=1000, games=100):\n",
    "    results = []\n",
    "    for alpha in alphas:\n",
    "        for gamma in gammas:\n",
    "            for epsilon in epsilons:\n",
    "                # Train the agent\n",
    "                agent = QLearningAgent(alpha=alpha, gamma=gamma, epsilon=epsilon)\n",
    "                env = TicTacToe()\n",
    "                for _ in range(episodes):\n",
    "                    state = env.reset()\n",
    "                    done = False\n",
    "\n",
    "                    while not done:\n",
    "                        valid_actions = env.valid_actions()\n",
    "                        action = agent.choose_action(tuple(state), valid_actions)\n",
    "                        next_state, reward, done, _ = env.step(action)\n",
    "                        next_valid_actions = env.valid_actions()\n",
    "                        agent.learn(tuple(state), action, reward, tuple(next_state), next_valid_actions, done)\n",
    "                        state = next_state\n",
    "\n",
    "                # Evaluate the agent\n",
    "                evaluation_results = evaluate_agent(agent, games=games)\n",
    "\n",
    "                # Store the results\n",
    "                results.append({\n",
    "                    'alpha': alpha,\n",
    "                    'gamma': gamma,\n",
    "                    'epsilon': epsilon,\n",
    "                    'evaluation': evaluation_results,\n",
    "                    'agent': agent\n",
    "                })\n",
    "\n",
    "    return results\n",
    "\n",
    "# Example usage\n",
    "alphas = [0.1, 0.5, 0.9]\n",
    "gammas = [0.1, 0.5, 0.9]\n",
    "epsilons = [0.1, 0.2, 0.3]\n",
    "\n",
    "cross_validation_results = cross_validate_agents(alphas, gammas, epsilons)"
   ]
  },
  {
   "cell_type": "markdown",
   "metadata": {},
   "source": [
    "## Print the Stats"
   ]
  },
  {
   "cell_type": "code",
   "execution_count": 32,
   "metadata": {},
   "outputs": [
    {
     "data": {
      "image/png": "[encoded data removed]",
      "text/plain": [
       "<Figure size 720x432 with 1 Axes>"
      ]
     },
     "metadata": {
      "needs_background": "light"
     },
     "output_type": "display_data"
    }
   ],
   "source": [
    "# Step 1: Prepare the data with sorting\n",
    "# Calculate the difference between wins and losses for each configuration\n",
    "performance = [result['evaluation'][0]['Wins'] - result['evaluation'][0]['Losses'] for result in cross_validation_results]\n",
    "# Add performance to the results for sorting\n",
    "for i, result in enumerate(cross_validation_results):\n",
    "    result['performance'] = performance[i]\n",
    "\n",
    "# Sort the results by performance and select the top 3\n",
    "top_results = sorted(cross_validation_results, key=lambda x: x['performance'], reverse=True)[:3]\n",
    "top_agent = top_results[0]['agent']\n",
    "\n",
    "# Extract data for the top 3 configurations\n",
    "alphas = [result['alpha'] for result in top_results]\n",
    "gammas = [result['gamma'] for result in top_results]\n",
    "epsilons = [result['epsilon'] for result in top_results]\n",
    "wins = [result['evaluation'][0]['Wins'] for result in top_results]\n",
    "losses = [result['evaluation'][0]['Losses'] for result in top_results]\n",
    "draws = [result['evaluation'][0]['Draws'] for result in top_results]\n",
    "\n",
    "# Set up the graph\n",
    "plt.figure(figsize=(10, 6))\n",
    "\n",
    "# Plot the data\n",
    "bar_width = 0.35\n",
    "indices = range(len(wins))\n",
    "bars_wins = plt.bar(indices, wins, bar_width, label='Wins')\n",
    "bars_losses = plt.bar(indices, losses, bar_width, bottom=wins, label='Losses')\n",
    "bars_draws = plt.bar(indices, draws, bar_width, bottom=[wins[j] + losses[j] for j in range(len(wins))], label='Draws')\n",
    "\n",
    "# Add labels and titles\n",
    "plt.xlabel('Top 3 Agent Configurations')\n",
    "plt.ylabel('Number of Games')\n",
    "plt.title('Performance of Top 3 Tic-Tac-Toe Agents')\n",
    "plt.xticks(indices, [f'α={a}, γ={g}, ε={e}' for a, g, e in zip(alphas, gammas, epsilons)], rotation=45)\n",
    "plt.legend(loc='lower right')\n",
    "\n",
    "# Annotate with the specific number of wins, losses, and draws\n",
    "for bar, win, loss, draw in zip(indices, wins, losses, draws):\n",
    "    plt.text(bar - bar_width/2, 0, f'W:{win}', ha='center', va='bottom')\n",
    "    plt.text(bar - bar_width/2, win, f'L:{loss}', ha='center', va='bottom')\n",
    "    plt.text(bar - bar_width/2, win + loss, f'D:{draw}', ha='center', va='bottom')\n",
    "\n",
    "# Display the graph\n",
    "plt.tight_layout()\n",
    "plt.show()"
   ]
  },
  {
   "cell_type": "code",
   "execution_count": 33,
   "metadata": {},
   "outputs": [
    {
     "name": "stdout",
     "output_type": "stream",
     "text": [
      "[(1, 4), (2, 8), (1, 2), (2, 1), (1, 6)]\n",
      "\n",
      "Player 1 ('X') moves to position [1, 1]:\n",
      ". . .\n",
      ". X .\n",
      ". . .\n",
      "\n",
      "Player 2 ('O') moves to position [2, 2]:\n",
      ". . .\n",
      ". X .\n",
      ". . O\n",
      "\n",
      "Player 1 ('X') moves to position [0, 2]:\n",
      ". . X\n",
      ". X .\n",
      ". . O\n",
      "\n",
      "Player 2 ('O') moves to position [0, 1]:\n",
      ". O X\n",
      ". X .\n",
      ". . O\n",
      "\n",
      "Player 1 ('X') moves to position [2, 0]:\n",
      ". O X\n",
      ". X .\n",
      "X . O\n",
      "Stats: {'Wins': 78, 'Losses': 19, 'Draws': 3}\n",
      "\n",
      "Final Board State:\n",
      ". O X\n",
      ". X .\n",
      "X . O\n"
     ]
    }
   ],
   "source": [
    "import numpy as np\n",
    "\n",
    "# Define symbols for players globally\n",
    "symbols = {1: 'X', 2: 'O'}\n",
    "\n",
    "def visualize_game(moves):\n",
    "    # Create an empty board\n",
    "    board = np.zeros((3, 3), dtype=int)  # Use a NumPy array for easier updates\n",
    "\n",
    "    for player, action in moves:\n",
    "        row, col = divmod(action, 3)  # Convert action to row and column\n",
    "        board[row, col] = player  # Update the board\n",
    "\n",
    "        # Print the board\n",
    "        print(f\"\\nPlayer {player} ('{symbols[player]}') moves to position [{row}, {col}]:\")\n",
    "        for row in board:\n",
    "            print(' '.join(symbols.get(cell, '.') for cell in row))\n",
    "\n",
    "    return board  # Return the final board state for further analysis\n",
    "\n",
    "# Example usage\n",
    "evaluation_results, game_moves = evaluate_agent(top_agent)\n",
    "print(game_moves)\n",
    "\n",
    "# Visualize the moves and winner for the first game in the evaluation\n",
    "if len(game_moves) > 0:\n",
    "    final_board = visualize_game(game_moves)  # Visualize the moves for the last game\n",
    "    print(f\"Stats: {evaluation_results}\")\n",
    "    print(\"\\nFinal Board State:\")\n",
    "    for row in final_board:\n",
    "        print(' '.join(symbols.get(cell, '.') for cell in row))\n"
   ]
  }
 ],
 "metadata": {
  "kernelspec": {
   "display_name": "Python 3.12.0 ('venv': venv)",
   "language": "python",
   "name": "python3"
  },
  "language_info": {
   "codemirror_mode": {
    "name": "ipython",
    "version": 3
   },
   "file_extension": ".py",
   "mimetype": "text/x-python",
   "name": "python",
   "nbconvert_exporter": "python",
   "pygments_lexer": "ipython3",
   "version": "3.7.8"
  },
  "vscode": {
   "interpreter": {
    "hash": "a028b4e8a8b8688b77a9b72f9baa3edf2ae3d0347867473412f6ca6859d44db1"
   }
  }
 },
 "nbformat": 4,
 "nbformat_minor": 2
}
