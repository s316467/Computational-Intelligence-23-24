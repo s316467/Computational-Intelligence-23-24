{
 "cells": [
  {
   "cell_type": "code",
   "execution_count": 567,
   "metadata": {},
   "outputs": [
    {
     "data": {
      "text/plain": [
       "'\\nInitial code taken from previous lessons and prof. Squillero repo  \\n'"
      ]
     },
     "execution_count": 567,
     "metadata": {},
     "output_type": "execute_result"
    }
   ],
   "source": [
    "\"\"\"\n",
    "Initial code taken from previous lessons and prof. Squillero repo  \n",
    "\"\"\""
   ]
  },
  {
   "cell_type": "code",
   "execution_count": 568,
   "metadata": {},
   "outputs": [],
   "source": [
    "from random import random\n",
    "from functools import reduce\n",
    "from collections import namedtuple\n",
    "from queue import PriorityQueue, SimpleQueue, LifoQueue\n",
    "from math import ceil\n",
    "\n",
    "import numpy as np"
   ]
  },
  {
   "cell_type": "code",
   "execution_count": 569,
   "metadata": {},
   "outputs": [],
   "source": [
    "PROBLEM_SIZE = 20\n",
    "NUM_SETS = 40\n",
    "SETS = tuple(np.array([random() < .3 for _ in range(PROBLEM_SIZE)]) for _ in range(NUM_SETS))\n",
    "State = namedtuple('State', ['taken', 'not_taken'])"
   ]
  },
  {
   "cell_type": "code",
   "execution_count": 570,
   "metadata": {},
   "outputs": [],
   "source": [
    "def goal_check(state):\n",
    "    return np.all(reduce(np.logical_or, [SETS[i] for i in state.taken], np.array([False for _ in range(PROBLEM_SIZE)])))\n",
    "\n",
    "def is_special(s):\n",
    "    return sum(s) / PROBLEM_SIZE > 0.6\n",
    "\n",
    "def distance(state):\n",
    "    uncovered = PROBLEM_SIZE - sum(\n",
    "        reduce(\n",
    "            np.logical_or, \n",
    "            [SETS[i] for i in state.taken],\n",
    "            np.array([False for _ in range(PROBLEM_SIZE)]),\n",
    "        )\n",
    "    )\n",
    "    for i in state.not_taken:\n",
    "        if is_special(SETS[i]):\n",
    "            return uncovered - 0.5\n",
    "    return uncovered\n"
   ]
  },
  {
   "cell_type": "code",
   "execution_count": 571,
   "metadata": {},
   "outputs": [],
   "source": [
    "assert goal_check(State(set(range(NUM_SETS)), set())), \"Probelm not solvable\" # sometimes an error may occur"
   ]
  },
  {
   "cell_type": "code",
   "execution_count": 572,
   "metadata": {},
   "outputs": [],
   "source": [
    "frontier = PriorityQueue()\n",
    "state = State(set(), set(range(NUM_SETS)))\n",
    "frontier.put((0, state))\n",
    "counter = 0\n",
    "_, current_state = frontier.get()\n"
   ]
  },
  {
   "cell_type": "code",
   "execution_count": 573,
   "metadata": {},
   "outputs": [
    {
     "data": {
      "text/plain": [
       "State(taken=set(), not_taken={0, 1, 2, 3, 4, 5, 6, 7, 8, 9, 10, 11, 12, 13, 14, 15, 16, 17, 18, 19, 20, 21, 22, 23, 24, 25, 26, 27, 28, 29, 30, 31, 32, 33, 34, 35, 36, 37, 38, 39})"
      ]
     },
     "execution_count": 573,
     "metadata": {},
     "output_type": "execute_result"
    }
   ],
   "source": [
    "current_state"
   ]
  },
  {
   "cell_type": "code",
   "execution_count": 574,
   "metadata": {},
   "outputs": [
    {
     "data": {
      "text/plain": [
       "array([ True, False,  True, False, False, False,  True, False, False,\n",
       "       False, False, False, False,  True, False, False, False,  True,\n",
       "       False,  True])"
      ]
     },
     "execution_count": 574,
     "metadata": {},
     "output_type": "execute_result"
    }
   ],
   "source": [
    "SETS[0]"
   ]
  },
  {
   "cell_type": "code",
   "execution_count": 575,
   "metadata": {},
   "outputs": [
    {
     "data": {
      "text/plain": [
       "False"
      ]
     },
     "execution_count": 575,
     "metadata": {},
     "output_type": "execute_result"
    }
   ],
   "source": [
    "goal_check(current_state)"
   ]
  },
  {
   "cell_type": "code",
   "execution_count": 576,
   "metadata": {},
   "outputs": [
    {
     "name": "stdout",
     "output_type": "stream",
     "text": [
      "Solved using A* in 117 steps with 3 sets.\n"
     ]
    }
   ],
   "source": [
    "\n",
    "# New function to determine if a set is special\n",
    "def is_special(s):\n",
    "    return sum(s) / PROBLEM_SIZE > 0.6\n",
    "\n",
    "# Function to get g(n) value\n",
    "def g_cost(state):\n",
    "    return len(state.taken)\n",
    "\n",
    "# Updated distance function to prioritize special sets\n",
    "def distance(state):\n",
    "    uncovered = PROBLEM_SIZE - sum(\n",
    "        reduce(\n",
    "            np.logical_or, \n",
    "            [SETS[i] for i in state.taken],\n",
    "            np.array([False for _ in range(PROBLEM_SIZE)]),\n",
    "        )\n",
    "    )\n",
    "    \n",
    "    # Reduce the heuristic value if the next possible set is special\n",
    "    for i in state.not_taken:\n",
    "        if is_special(SETS[i]):\n",
    "            return uncovered - 0.5\n",
    "    return uncovered\n",
    "\n",
    "# A* approach\n",
    "def astar_search():\n",
    "    visited = set()\n",
    "    frontier = PriorityQueue()\n",
    "    start_state = State(frozenset(), frozenset(range(NUM_SETS)))\n",
    "    frontier.put((0 + distance(start_state), 0, start_state))\n",
    "    counter = 0\n",
    "\n",
    "    while not frontier.empty():\n",
    "        _, g_cost_current, current_state = frontier.get()\n",
    "        if goal_check(current_state):\n",
    "            return current_state, counter\n",
    "\n",
    "        visited.add(current_state)\n",
    "\n",
    "        # Prioritize special sets in the actions loop\n",
    "        sorted_actions = sorted(list(current_state.not_taken), key=lambda x: -sum(SETS[x]))\n",
    "        for action in sorted_actions:\n",
    "            new_taken = frozenset(current_state.taken | {action})\n",
    "            new_not_taken = frozenset(current_state.not_taken - {action})\n",
    "            new_state = State(new_taken, new_not_taken)\n",
    "            \n",
    "            if new_state not in visited:\n",
    "                g_new = g_cost(new_state)\n",
    "                h_new = distance(new_state)\n",
    "                frontier.put((g_new + h_new, g_new, new_state))\n",
    "                counter += 1\n",
    "\n",
    "    return None, counter\n",
    "\n",
    "final_state, steps = astar_search()\n",
    "print(f\"Solved using A* in {steps:,} steps with {len(final_state.taken)} sets.\")\n",
    "\n"
   ]
  },
  {
   "cell_type": "code",
   "execution_count": 577,
   "metadata": {},
   "outputs": [
    {
     "data": {
      "text/plain": [
       "'\\nComments on completed requests: \\n\\n1. **A* algorithm**:\\n   - **Heuristic H drives the algorithm**:\\n     - **Admissible**: The heuristic is admissible if it never overestimates the cost to reach the goal. \\n     In the context of the set covering, the heuristic used (`distance`) is the count of the uncovered elements in the problem. \\n     This is admissible since it always underestimates or correctly estimates the number of sets needed to cover all elements.\\n     - **Monotonic**: Monotonicity means the heuristic should not decrease along a path. \\n     In the code, `distance` is based on the number of uncovered elements, which will not increase as more sets are taken. \\n     So, it\\'s monotonic.\\n   - **Build a new H**:\\n     - **Consider the old H (distance)**: The code uses the `distance` heuristic, which is the number of uncovered elements.\\n     - **What about “special sets”?**: The code introduces a function `is_special(s)` that checks if a set is \"special\". \\n     It determines a set as special if it covers more than 60% of the total elements. \\n     The `distance` heuristic function gives preference to special sets by subtracting a value (0.5) if the next possible set is special.\\n     - **What about the order of the sets?**: In the `astar_search()` function, \\n     the actions (sets) are sorted in descending order based on their size (number of elements they cover) \\n     using the line `sorted_actions = sorted(list(current_state.not_taken), key=lambda x: -sum(SETS[x]))`. \\n     This ensures that larger sets (and potentially \"special\" sets) are prioritized.\\n'"
      ]
     },
     "execution_count": 577,
     "metadata": {},
     "output_type": "execute_result"
    }
   ],
   "source": [
    "\"\"\"\n",
    "Comments on completed requests: \n",
    "\n",
    "1. **A* algorithm**:\n",
    "   - **Heuristic H drives the algorithm**:\n",
    "     - **Admissible**: The heuristic is admissible if it never overestimates the cost to reach the goal. \n",
    "     In the context of the set covering, the heuristic used (`distance`) is the count of the uncovered elements in the problem. \n",
    "     This is admissible since it always underestimates or correctly estimates the number of sets needed to cover all elements.\n",
    "     - **Monotonic**: Monotonicity means the heuristic should not decrease along a path. \n",
    "     In the code, `distance` is based on the number of uncovered elements, which will not increase as more sets are taken. \n",
    "     So, it's monotonic.\n",
    "   - **Build a new H**:\n",
    "     - **Consider the old H (distance)**: The code uses the `distance` heuristic, which is the number of uncovered elements.\n",
    "     - **What about “special sets”?**: The code introduces a function `is_special(s)` that checks if a set is \"special\". \n",
    "     It determines a set as special if it covers more than 60% of the total elements. \n",
    "     The `distance` heuristic function gives preference to special sets by subtracting a value (0.5) if the next possible set is special.\n",
    "     - **What about the order of the sets?**: In the `astar_search()` function, \n",
    "     the actions (sets) are sorted in descending order based on their size (number of elements they cover) \n",
    "     using the line `sorted_actions = sorted(list(current_state.not_taken), key=lambda x: -sum(SETS[x]))`. \n",
    "     This ensures that larger sets (and potentially \"special\" sets) are prioritized.\n",
    "\"\"\""
   ]
  }
 ],
 "metadata": {
  "kernelspec": {
   "display_name": "Python 3",
   "language": "python",
   "name": "python3"
  },
  "language_info": {
   "codemirror_mode": {
    "name": "ipython",
    "version": 3
   },
   "file_extension": ".py",
   "mimetype": "text/x-python",
   "name": "python",
   "nbconvert_exporter": "python",
   "pygments_lexer": "ipython3",
   "version": "3.7.8"
  }
 },
 "nbformat": 4,
 "nbformat_minor": 2
}
